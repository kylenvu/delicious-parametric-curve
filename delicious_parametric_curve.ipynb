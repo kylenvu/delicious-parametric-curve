{
 "cells": [
  {
   "cell_type": "markdown",
   "metadata": {
    "collapsed": false
   },
   "source": [
    "# A Delicious Parametric Curve\n",
    "\n",
    "**Instructions:** Run each of the cells in order from top to bottom, and observe the result.\n",
    "\n",
    "Enjoy :)"
   ]
  },
  {
   "cell_type": "code",
   "execution_count": 0,
   "metadata": {
    "collapsed": false
   },
   "outputs": [
   ],
   "source": [
    "%matplotlib inline\n",
    "import matplotlib.pyplot as plt\n",
    "import numpy as np"
   ]
  },
  {
   "cell_type": "code",
   "execution_count": 0,
   "metadata": {
    "collapsed": false
   },
   "outputs": [
   ],
   "source": [
    "t = np.linspace(-10,10,1000)\n",
    "f_x = (17/31)*np.sin((235/57)-32*t)+(19/17)*np.sin((192/55)-30*t)+(47/32)*np.sin((69/25)-29*t)+(35/26)*np.sin((75/34)-27*t)+(6/31)*np.sin((23/10)-26*t)+(35/43)*np.sin((10/33)-25*t)+(126/43)*np.sin((421/158)-24*t)+(143/57)*np.sin((35/22)-22*t)+(106/27)*np.sin((84/29)-21*t)+(88/25)*np.sin((23/27)-20*t)+(74/27)*np.sin((53/22)-19*t)+(44/53)*np.sin((117/25)-18*t)+(126/25)*np.sin((88/49)-17*t)+(79/11)*np.sin((43/26)-16*t)+(43/12)*np.sin((41/17)-15*t)+(47/27)*np.sin((244/81)-14*t)+(8/5)*np.sin((79/19)-13*t)+(373/46)*np.sin((106/38)-12*t)+(1200/31)*np.sin((133/74)-11*t)+(67/24)*np.sin((157/61)-10*t)+(583/28)*np.sin((13/8)-8*t)+(772/35)*np.sin((59/16)-7*t)+(3705/46)*np.sin((117/50)-6*t)+(862/13)*np.sin((19/8)-5*t)+(6555/34)*np.sin((157/78)-3*t)+(6949/13)*np.sin((83/27)-t)-(6805/54)*np.sin(2*t+(1/145))-(5207/37)*np.sin(4*t+(49/74))-(1811/58)*np.sin(9*t+(55/43))-(63/20)*np.sin(23*t+(2/23))-(266/177)*np.sin(28*t+(13/18))-(2/21)*np.sin(31*t+(7/16))\n",
    "f_y = (70/37)*np.sin((65/32)-32*t)+(11/12)*np.sin((98/41)-31*t)+(26/29)*np.sin((35/12)-30*t)+(54/41)*np.sin((18/7)-29*t)+(177/71)*np.sin((51/19)-27*t)+(59/34)*np.sin((125/33)-26*t)+(49/29)*np.sin((18/11)-25*t)+(151/75)*np.sin((59/22)-24*t)+(52/9)*np.sin((118/45)-22*t)+(52/33)*np.sin((133/52)-21*t)+(37/45)*np.sin((61/14)-20*t)+(143/46)*np.sin((144/41)-19*t)+(254/47)*np.sin((19/52)-18*t)+(246/35)*np.sin((92/25)-17*t)+(722/111)*np.sin((176/67)-16*t)+(136/23)*np.sin((3/19)-15*t)+(273/25)*np.sin((32/21)-13*t)+(229/33)*np.sin((117/28)-12*t)+(19/4)*np.sin((43/11)-11*t)+(135/8)*np.sin((23/10)-10*t)+(205/6)*np.sin((33/23)-8*t)+(679/49)*np.sin((55/12)-7*t)+(101/8)*np.sin((11/12)-6*t)+(2760/59)*np.sin((40/11)-5*t)+(1207/18)*np.sin((21/23)-4*t)+(8566/27)*np.sin((39/28)-3*t)+(12334/29)*np.sin((47/37)-2*t)+(15410/39)*np.sin((185/41)-t)-(596/17)*np.sin(9*t+(3/26))-(247/28)*np.sin(14*t+(25/21)-(458/131)*np.sin(23*t+(21/37))-(41/36)*np.sin(28*t+(7/8)))"
   ]
  },
  {
   "cell_type": "code",
   "execution_count": 0,
   "metadata": {
    "collapsed": false
   },
   "outputs": [
   ],
   "source": [
    "plt.plot(f_x, f_y, color='g')\n",
    "plt.show"
   ]
  }
 ],
 "metadata": {
  "kernelspec": {
   "display_name": "Python 3 (system-wide)",
   "language": "python",
   "metadata": {
    "cocalc": {
     "description": "Python 3 programming language",
     "priority": 100,
     "url": "https://www.python.org/"
    }
   },
   "name": "python3",
   "resource_dir": "/ext/jupyter/kernels/python3"
  }
 },
 "nbformat": 4,
 "nbformat_minor": 4
}